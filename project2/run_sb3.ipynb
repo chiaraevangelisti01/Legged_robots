{
 "cells": [
  {
   "cell_type": "markdown",
   "metadata": {},
   "source": [
    "SPDX-FileCopyrightText: Copyright (c) 2022 Guillaume Bellegarda. All rights reserved.<br>\n",
    "SPDX-License-Identifier: BSD-3-Clause<br>\n",
    "<br>\n",
    "Redistribution and use in source and binary forms, with or without<br>\n",
    "modification, are permitted provided that the following conditions are met:<br>\n",
    "<br>\n",
    "1. Redistributions of source code must retain the above copyright notice, this<br>\n",
    "list of conditions and the following disclaimer.<br>\n",
    "<br>\n",
    "2. Redistributions in binary form must reproduce the above copyright notice,<br>\n",
    "this list of conditions and the following disclaimer in the documentation<br>\n",
    "and/or other materials provided with the distribution.<br>\n",
    "<br>\n",
    "3. Neither the name of the copyright holder nor the names of its<br>\n",
    "contributors may be used to endorse or promote products derived from<br>\n",
    "this software without specific prior written permission.<br>\n",
    "<br>\n",
    "THIS SOFTWARE IS PROVIDED BY THE COPYRIGHT HOLDERS AND CONTRIBUTORS \"AS IS\"<br>\n",
    "AND ANY EXPRESS OR IMPLIED WARRANTIES, INCLUDING, BUT NOT LIMITED TO, THE<br>\n",
    "IMPLIED WARRANTIES OF MERCHANTABILITY AND FITNESS FOR A PARTICULAR PURPOSE ARE<br>\n",
    "DISCLAIMED. IN NO EVENT SHALL THE COPYRIGHT HOLDER OR CONTRIBUTORS BE LIABLE<br>\n",
    "FOR ANY DIRECT, INDIRECT, INCIDENTAL, SPECIAL, EXEMPLARY, OR CONSEQUENTIAL<br>\n",
    "DAMAGES (INCLUDING, BUT NOT LIMITED TO, PROCUREMENT OF SUBSTITUTE GOODS OR<br>\n",
    "SERVICES; LOSS OF USE, DATA, OR PROFITS; OR BUSINESS INTERRUPTION) HOWEVER<br>\n",
    "CAUSED AND ON ANY THEORY OF LIABILITY, WHETHER IN CONTRACT, STRICT LIABILITY,<br>\n",
    "OR TORT (INCLUDING NEGLIGENCE OR OTHERWISE) ARISING IN ANY WAY OUT OF THE USE<br>\n",
    "OF THIS SOFTWARE, EVEN IF ADVISED OF THE POSSIBILITY OF SUCH DAMAGE.<br>\n",
    "<br>\n",
    "Copyright (c) 2022 EPFL, Guillaume Bellegarda"
   ]
  },
  {
   "cell_type": "markdown",
   "metadata": {},
   "source": [
    "\n",
    "<br>\n",
    "Run stable baselines 3 on quadruped env <br>\n",
    "Check the documentation! https://stable-baselines3.readthedocs.io/en/master/<br>\n"
   ]
  },
  {
   "cell_type": "code",
   "execution_count": null,
   "metadata": {},
   "outputs": [],
   "source": [
    "import os\n",
    "from datetime import datetime\n",
    "# stable baselines 3\n",
    "from stable_baselines3.common.vec_env import DummyVecEnv, VecNormalize\n",
    "from stable_baselines3 import PPO, SAC\n",
    "from stable_baselines3.common.env_util import make_vec_env\n",
    "# utils\n",
    "from utils.utils import CheckpointCallback\n",
    "from utils.file_utils import get_latest_model\n",
    "# gym environment\n",
    "from env.quadruped_gym_env import QuadrupedGymEnv"
   ]
  },
  {
   "cell_type": "code",
   "execution_count": null,
   "metadata": {},
   "outputs": [],
   "source": [
    "LEARNING_ALG = \"PPO\" # or \"SAC\"\n",
    "LOAD_NN = False # if you want to initialize training with a previous model \n",
    "NUM_ENVS = 1    # how many pybullet environments to create for data collection\n",
    "USE_GPU = False # make sure to install all necessary drivers "
   ]
  },
  {
   "cell_type": "code",
   "execution_count": null,
   "metadata": {},
   "outputs": [],
   "source": [
    "LEARNING_ALG = \"SAC\";  USE_GPU = True\n",
    "# after implementing, you will want to test how well the agent learns with your MDP: \n",
    "# env_configs = {\"motor_control_mode\":\"CPG\",\n",
    "#                \"task_env\": \"FWD_LOCOMOTION\", #  \"LR_COURSE_TASK\",\n",
    "#                \"observation_space_mode\": \"LR_COURSE_OBS\"}\n",
    "env_configs = {}"
   ]
  },
  {
   "cell_type": "code",
   "execution_count": null,
   "metadata": {},
   "outputs": [],
   "source": [
    "if USE_GPU and LEARNING_ALG==\"SAC\":\n",
    "    gpu_arg = \"auto\" \n",
    "else:\n",
    "    gpu_arg = \"cpu\""
   ]
  },
  {
   "cell_type": "code",
   "execution_count": null,
   "metadata": {},
   "outputs": [],
   "source": [
    "if LOAD_NN:\n",
    "    interm_dir = \"./logs/intermediate_models/\"\n",
    "    log_dir = interm_dir + '' # add path\n",
    "    stats_path = os.path.join(log_dir, \"vec_normalize.pkl\")\n",
    "    model_name = get_latest_model(log_dir)"
   ]
  },
  {
   "cell_type": "markdown",
   "metadata": {},
   "source": [
    "directory to save policies and normalization parameters"
   ]
  },
  {
   "cell_type": "code",
   "execution_count": null,
   "metadata": {},
   "outputs": [],
   "source": [
    "SAVE_PATH = './logs/intermediate_models/'+ datetime.now().strftime(\"%m%d%y%H%M%S\") + '/'\n",
    "os.makedirs(SAVE_PATH, exist_ok=True)\n",
    "# checkpoint to save policy network periodically\n",
    "checkpoint_callback = CheckpointCallback(save_freq=30000, save_path=SAVE_PATH,name_prefix='rl_model', verbose=2)\n",
    "# create Vectorized gym environment\n",
    "env = lambda: QuadrupedGymEnv(**env_configs)  \n",
    "env = make_vec_env(env, monitor_dir=SAVE_PATH,n_envs=NUM_ENVS)\n",
    "# normalize observations to stabilize learning (why?)\n",
    "env = VecNormalize(env, norm_obs=True, norm_reward=False, clip_obs=100.)"
   ]
  },
  {
   "cell_type": "code",
   "execution_count": null,
   "metadata": {},
   "outputs": [],
   "source": [
    "if LOAD_NN:\n",
    "    env = lambda: QuadrupedGymEnv(**env_configs)\n",
    "    env = make_vec_env(env, monitor_dir=SAVE_PATH, n_envs=NUM_ENVS)\n",
    "    env = VecNormalize.load(stats_path, env)"
   ]
  },
  {
   "cell_type": "markdown",
   "metadata": {},
   "source": [
    "Multi-layer perceptron (MLP) policy of two layers of size _,_ "
   ]
  },
  {
   "cell_type": "code",
   "execution_count": null,
   "metadata": {},
   "outputs": [],
   "source": [
    "policy_kwargs = dict(net_arch=[256,256])\n",
    "# What are these hyperparameters? Check here: https://stable-baselines3.readthedocs.io/en/master/modules/ppo.html\n",
    "n_steps = 4096 \n",
    "learning_rate = lambda f: 1e-4 \n",
    "ppo_config = {  \"gamma\":0.99, \n",
    "                \"n_steps\": int(n_steps/NUM_ENVS), \n",
    "                \"ent_coef\":0.0, \n",
    "                \"learning_rate\":learning_rate, \n",
    "                \"vf_coef\":0.5,\n",
    "                \"max_grad_norm\":0.5, \n",
    "                \"gae_lambda\":0.95, \n",
    "                \"batch_size\":128,\n",
    "                \"n_epochs\":10, \n",
    "                \"clip_range\":0.2, \n",
    "                \"clip_range_vf\":1,\n",
    "                \"verbose\":1, \n",
    "                \"tensorboard_log\":None, \n",
    "                \"_init_setup_model\":True, \n",
    "                \"policy_kwargs\":policy_kwargs,\n",
    "                \"device\": gpu_arg}"
   ]
  },
  {
   "cell_type": "markdown",
   "metadata": {},
   "source": [
    "What are these hyperparameters? Check here: https://stable-baselines3.readthedocs.io/en/master/modules/sac.html"
   ]
  },
  {
   "cell_type": "code",
   "execution_count": null,
   "metadata": {},
   "outputs": [],
   "source": [
    "sac_config={\"learning_rate\":1e-4,\n",
    "            \"buffer_size\":300000,\n",
    "            \"batch_size\":256,\n",
    "            \"ent_coef\":'auto', \n",
    "            \"gamma\":0.99, \n",
    "            \"tau\":0.005,\n",
    "            \"train_freq\":1, \n",
    "            \"gradient_steps\":1,\n",
    "            \"learning_starts\": 10000,\n",
    "            \"verbose\":1, \n",
    "            \"tensorboard_log\":None,\n",
    "            \"policy_kwargs\": policy_kwargs,\n",
    "            \"seed\":None, \n",
    "            \"device\": gpu_arg}"
   ]
  },
  {
   "cell_type": "code",
   "execution_count": null,
   "metadata": {},
   "outputs": [],
   "source": [
    "if LEARNING_ALG == \"PPO\":\n",
    "    model = PPO('MlpPolicy', env, **ppo_config)\n",
    "elif LEARNING_ALG == \"SAC\":\n",
    "    model = SAC('MlpPolicy', env, **sac_config)\n",
    "else:\n",
    "    raise ValueError(LEARNING_ALG + 'not implemented')"
   ]
  },
  {
   "cell_type": "code",
   "execution_count": null,
   "metadata": {},
   "outputs": [],
   "source": [
    "if LOAD_NN:\n",
    "    if LEARNING_ALG == \"PPO\":\n",
    "        model = PPO.load(model_name, env)\n",
    "    elif LEARNING_ALG == \"SAC\":\n",
    "        model = SAC.load(model_name, env)\n",
    "    print(\"\\nLoaded model\", model_name, \"\\n\")"
   ]
  },
  {
   "cell_type": "markdown",
   "metadata": {},
   "source": [
    "Learn and save (may need to train for longer)"
   ]
  }
 ],
 "metadata": {
  "kernelspec": {
   "display_name": "Python 3",
   "language": "python",
   "name": "python3"
  },
  "language_info": {
   "codemirror_mode": {
    "name": "ipython",
    "version": 3
   },
   "file_extension": ".py",
   "mimetype": "text/x-python",
   "name": "python",
   "nbconvert_exporter": "python",
   "pygments_lexer": "ipython3",
   "version": "3.6.4"
  }
 },
 "nbformat": 4,
 "nbformat_minor": 2
}
